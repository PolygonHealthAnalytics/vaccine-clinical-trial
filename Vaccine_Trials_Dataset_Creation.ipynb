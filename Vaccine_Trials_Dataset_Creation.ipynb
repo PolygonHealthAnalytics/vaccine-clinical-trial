{
 "cells": [
  {
   "cell_type": "markdown",
   "metadata": {},
   "source": [
    "# Vaccine Trail Analytics Dataset Creation"
   ]
  },
  {
   "cell_type": "markdown",
   "metadata": {},
   "source": [
    "#### Data Ingestion"
   ]
  },
  {
   "cell_type": "code",
   "execution_count": 1,
   "metadata": {},
   "outputs": [
    {
     "name": "stderr",
     "output_type": "stream",
     "text": [
      "/Library/Frameworks/Python.framework/Versions/3.7/lib/python3.7/site-packages/IPython/core/interactiveshell.py:3444: DtypeWarning: Columns (47,48,53,68) have mixed types.Specify dtype option on import or set low_memory=False.\n",
      "  exec(code_obj, self.user_global_ns, self.user_ns)\n"
     ]
    }
   ],
   "source": [
    "import pandas as pd\n",
    "import numpy as np\n",
    "brief_summaries = pd.read_csv('brief_summaries.csv', on_bad_lines='skip')\n",
    "studies = pd.read_csv('studies.csv', on_bad_lines='skip')\n",
    "designs = pd.read_csv('designs.csv', on_bad_lines='skip')\n",
    "interventions=pd.read_csv('interventions.csv',usecols=['nct_id','intervention_type','name','description'])\n",
    "browse_conditions = pd.read_csv('browse_conditions.csv')\n",
    "browse_interventions = pd.read_csv(\"browse_interventions.csv\")\n",
    "keywords = pd.read_csv('keywords.csv')\n",
    "conditions = pd.read_csv('conditions.csv')\n",
    "design_groups = pd.read_csv('design_groups.csv')\n",
    "countries = pd.read_csv('countries.csv')\n"
   ]
  },
  {
   "cell_type": "markdown",
   "metadata": {},
   "source": [
    "#### Initial Filtering"
   ]
  },
  {
   "cell_type": "code",
   "execution_count": 29,
   "metadata": {},
   "outputs": [
    {
     "name": "stderr",
     "output_type": "stream",
     "text": [
      "/Library/Frameworks/Python.framework/Versions/3.7/lib/python3.7/site-packages/ipykernel_launcher.py:17: SettingWithCopyWarning: \n",
      "A value is trying to be set on a copy of a slice from a DataFrame.\n",
      "Try using .loc[row_indexer,col_indexer] = value instead\n",
      "\n",
      "See the caveats in the documentation: https://pandas.pydata.org/pandas-docs/stable/user_guide/indexing.html#returning-a-view-versus-a-copy\n"
     ]
    }
   ],
   "source": [
    "# All Vaccine related information\n",
    "\n",
    "studies['brief_title'] = studies['brief_title'].astype(str)\n",
    "studies['official_title'] = studies['official_title'].astype(str)\n",
    "\n",
    "# Defining the regex pattern for vaccine-related terms\n",
    "pattern = r'\\bvaccin(?:e|ation|es|ations)?\\b'\n",
    "\n",
    "\n",
    "# Filtering the dataset for trials containing relevant terms in the brief_title or official_title\n",
    "vaccine_related_df = studies[\n",
    "    studies['brief_title'].str.contains(pattern, case=False, na=False, regex=True) |\n",
    "    studies['official_title'].str.contains(pattern, case=False, na=False, regex=True)\n",
    "]\n",
    "\n",
    "# Ensuring study_first_posted_date is in datetime format\n",
    "vaccine_related_df['study_first_posted_date'] = pd.to_datetime(vaccine_related_df['study_first_posted_date'], errors='coerce')\n"
   ]
  },
  {
   "cell_type": "code",
   "execution_count": 30,
   "metadata": {},
   "outputs": [],
   "source": [
    "\n",
    "# Load the tables\n",
    "\n",
    "\n",
    "# Filter for vaccine-related information\n",
    "brief = brief_summaries[brief_summaries['description'].str.lower().str.contains('vaccine')]\n",
    "\n",
    "# Join the tables\n",
    "vaccine_join = pd.merge(brief, studies, on='nct_id')\n",
    "vaccine_join = pd.merge(vaccine_join, designs[['nct_id', 'primary_purpose']], on='nct_id')\n",
    "\n",
    "# Select the relevant columns\n",
    "vaccine_join = vaccine_join[['nct_id', 'start_date', 'completion_date', 'study_type', 'primary_purpose', 'brief_title', 'official_title', 'description']]\n",
    "\n",
    "# Save the result to a new CSV file (optional)\n",
    "# vaccine_join.to_csv('vaccine_join.csv', index=False)\n",
    "\n",
    "# Display the result\n",
    "H_df = vaccine_join.copy()\n",
    "H_df = H_df[H_df['nct_id'].str.startswith('NCT')]\n",
    "\n"
   ]
  },
  {
   "cell_type": "code",
   "execution_count": 39,
   "metadata": {},
   "outputs": [],
   "source": [
    "def combined_data(data1,data2,col,condition):\n",
    "    data= pd.merge(data1, data2,on=col,how=condition)\n",
    "    data = data.drop_duplicates(subset=[col])\n",
    "    return data\n",
    "# Filetered tables individually with conditions\n",
    "# Designs Table\n",
    "condition_design = (designs['primary_purpose'] == 'PREVENTION') | (designs['primary_purpose'] == 'TREATMENT')| (pd.isna(designs['primary_purpose']))\n",
    "designs_1=designs[condition_design]\n",
    "designs_1=designs_1.drop_duplicates(subset='nct_id')\n",
    "\n",
    "#Intervention Table\n",
    "condition_int = interventions['intervention_type']=='BIOLOGICAL'\n",
    "interventions_1=interventions[condition_int]\n",
    "interventions_1=interventions_1.drop_duplicates(subset='nct_id')\n",
    "\n",
    "#Studies Table\n",
    "condition_st = (studies['study_type']=='INTERVENTIONAL') | (studies['study_type']== 'OBSERVATIONAL')|(studies['study_type']== 'Observational [Patient Registry]')\n",
    "studies_1 = studies[condition_st]\n",
    "\n",
    "#combined tables\n",
    "nct_id= combined_data(interventions_1,studies_1,'nct_id', 'inner')\n",
    "common_nct_id= combined_data(designs_1,nct_id,'nct_id','inner')\n",
    "S_df = common_nct_id.copy()"
   ]
  },
  {
   "cell_type": "markdown",
   "metadata": {},
   "source": [
    "### Merging Different Parts "
   ]
  },
  {
   "cell_type": "code",
   "execution_count": 40,
   "metadata": {},
   "outputs": [
    {
     "name": "stdout",
     "output_type": "stream",
     "text": [
      "(10753, 73)\n"
     ]
    }
   ],
   "source": [
    "matched_df = pd.merge(vaccine_related_df, H_df, on='nct_id', how='outer')\n",
    "columns_to_converge = ['start_date', 'completion_date', 'study_type', 'brief_title', 'official_title']\n",
    "\n",
    "# Iterate through the columns and combine 'x' and 'y' versions\n",
    "for col in columns_to_converge:\n",
    "    matched_df[col] = matched_df[f'{col}_y'].combine_first(matched_df[f'{col}_x'])\n",
    "    matched_df.drop([f'{col}_x', f'{col}_y'], axis=1, inplace=True)\n",
    "\n",
    "print(matched_df.shape)"
   ]
  },
  {
   "cell_type": "code",
   "execution_count": 49,
   "metadata": {},
   "outputs": [],
   "source": [
    "final_df = pd.merge(matched_df, S_df, on='nct_id', how='outer', suffixes=('', '_y'))\n",
    "\n",
    "# Identify all overlapping columns (excluding 'nct_id')\n",
    "overlapping_columns = [col for col in final_df.columns if col.endswith('_y') and col[:-2] in final_df.columns]\n",
    "\n",
    "# Function to handle column convergence\n",
    "def converge_columns(df, col):\n",
    "    x_col = col\n",
    "    y_col = f'{col}_y'\n",
    "    \n",
    "    # Case 1: Values in x are equal to y, set y to None\n",
    "    df.loc[df[x_col] == df[y_col], y_col] = None\n",
    "    \n",
    "    # Case 2: Values only available in x column, keep them the same (No action needed)\n",
    "    \n",
    "    # Case 3: Values only available in y column, copy those to x\n",
    "    df.loc[df[x_col].isna(), x_col] = df[y_col]\n",
    "    \n",
    "    # Set y to None where x is not null (covers both case 1 and 2)\n",
    "    df.loc[df[x_col].notna(), y_col] = None\n",
    "    \n",
    "    # Drop the y column\n",
    "    df.drop(columns=[y_col], inplace=True)\n",
    "    \n",
    "    return df\n",
    "\n",
    "# Apply the convergence function to all overlapping columns\n",
    "for col in overlapping_columns:\n",
    "    final_df = converge_columns(final_df, col[:-2])\n"
   ]
  },
  {
   "cell_type": "markdown",
   "metadata": {},
   "source": [
    "### Final_df is preliminary merged dataset out of all dataset which contains false positives"
   ]
  },
  {
   "cell_type": "code",
   "execution_count": null,
   "metadata": {},
   "outputs": [],
   "source": [
    "final_df.rename(columns={'study_type_x': 'study_type', 'primary_purpose_x': 'primary_purpose'}, inplace=True)\n"
   ]
  },
  {
   "cell_type": "markdown",
   "metadata": {},
   "source": [
    "### Hence, combining extra rows from some parts on which we will filter more"
   ]
  },
  {
   "cell_type": "code",
   "execution_count": 55,
   "metadata": {},
   "outputs": [],
   "source": [
    "vaccine_nct_ids = set(vaccine_related_df['nct_id'])\n",
    "\n",
    "# Filter out rows from S_df and H_df where nct_id is in vaccine_nct_ids\n",
    "S_df_filtered = S_df[~S_df['nct_id'].isin(vaccine_nct_ids)]\n",
    "H_df_filtered = H_df[~H_df['nct_id'].isin(vaccine_nct_ids)]\n",
    "\n",
    "# Combine the two filtered datasets\n",
    "combined_df = pd.concat([S_df_filtered, H_df_filtered], ignore_index=True)"
   ]
  },
  {
   "cell_type": "markdown",
   "metadata": {},
   "source": [
    "### Additional Filtering"
   ]
  },
  {
   "cell_type": "code",
   "execution_count": 56,
   "metadata": {},
   "outputs": [],
   "source": [
    "# Applying filtering techniques \n",
    "\n",
    "vaccine_list = [\n",
    "    'hepatitis', 'diphtheria', 'flu', 'hib', 'hpv', 'measles', 'meningococcal', 'mumps', \n",
    "    'polio', 'rsv', 'pneumococcal', 'tetanus', 'rubella', 'hep b', 'mmr', 'vaccinia', 'dtap', \n",
    "    'hiv', 'bcg', 'hiv-1', 'tuberculosis', 'norovirus', 'virus', 'corona', 'dpt', 'ipv', \n",
    "    'covid-19', 'pneumonia', 'infection', 'rabies', 'vaccine', 'vaccination'\n",
    "]\n",
    "\n",
    "# Remove list based on frequent words irrelevant to vaccine studies\n",
    "remove_list = [\n",
    "    'inhibitor' , 'mesenchymal' , 'autologous' , 'osteoarthritis', 'macular', 'immunoglobulin', 'transplantation' , 'lymphocytes' \n",
    "]\n",
    "    \n",
    "\n",
    "\n",
    "# Function to filter rows based on vaccine_list and remove_list\n",
    "def filter_vaccine_studies(df, vaccine_list, remove_list):\n",
    "    def contains_keywords(text, keywords):\n",
    "        if pd.isna(text):\n",
    "            return False\n",
    "        text = text.lower()\n",
    "        return any(keyword in text for keyword in keywords)\n",
    "    \n",
    "    # Filter rows that contain vaccine-related keywords and do not contain remove_list keywords\n",
    "    filtered_df = df[\n",
    "        df.apply(lambda row: (\n",
    "            contains_keywords(row['name'], vaccine_list) or \n",
    "            contains_keywords(row['description'], vaccine_list) or \n",
    "            contains_keywords(row['brief_title'], vaccine_list) or \n",
    "            contains_keywords(row['official_title'], vaccine_list)\n",
    "        ) and not (\n",
    "            contains_keywords(row['name'], remove_list) or \n",
    "            contains_keywords(row['description'], remove_list) or \n",
    "            contains_keywords(row['brief_title'], remove_list) or \n",
    "            contains_keywords(row['official_title'], remove_list)\n",
    "        ), axis=1)\n",
    "    ]\n",
    "    \n",
    "    return filtered_df\n",
    "\n",
    "# Apply the filter function\n",
    "filtered_vaccine_studies = filter_vaccine_studies(combined_df, vaccine_list, remove_list)\n"
   ]
  },
  {
   "cell_type": "markdown",
   "metadata": {},
   "source": [
    "### Creating a true positive dataset that contains vaccine related informational rows from all datasets"
   ]
  },
  {
   "cell_type": "code",
   "execution_count": 57,
   "metadata": {},
   "outputs": [],
   "source": [
    "#Getting NCTids of true positives - calculated by entries present in atelast 2 of the 3 datasets\n",
    "\n",
    "vaccine_nct_ids = set(vaccine_related_df['nct_id'])\n",
    "H_nct_ids = set(H_df['nct_id'])\n",
    "S_nct_ids = set(S_df['nct_id'])\n",
    "\n",
    "# Function to check if nct_id is present in at least 2 datasets\n",
    "def is_in_at_least_two(nct_id, sets):\n",
    "    count = sum(1 for s in sets if nct_id in s)\n",
    "    return count >= 2\n",
    "\n",
    "# Filter the final dataframe\n",
    "true_positive = final_df[final_df['nct_id'].apply(lambda nct_id: is_in_at_least_two(nct_id, [vaccine_nct_ids, H_nct_ids, S_nct_ids]))]\n"
   ]
  },
  {
   "cell_type": "markdown",
   "metadata": {},
   "source": [
    "### Filtering that from prelimary merged dataset "
   ]
  },
  {
   "cell_type": "code",
   "execution_count": 58,
   "metadata": {},
   "outputs": [],
   "source": [
    "final_df_filtered_nct_ids = set(true_positive['nct_id'])\n",
    "filtered_vaccine_studies_nct_ids = set(filtered_vaccine_studies['nct_id'])\n",
    "\n",
    "# Combine the nct_ids from both datasets\n",
    "combined_nct_ids = final_df_filtered_nct_ids.union(filtered_vaccine_studies_nct_ids)\n",
    "\n",
    "# Filter out rows from final_df that are present in either final_df_filtered or filtered_vaccine_studies\n",
    "final_df_filtered_out = final_df[final_df['nct_id'].isin(combined_nct_ids)]\n"
   ]
  },
  {
   "cell_type": "markdown",
   "metadata": {},
   "source": [
    "### Filtering needed columns and adding new columns from other datasets / aggregating data wherever needed"
   ]
  },
  {
   "cell_type": "code",
   "execution_count": 62,
   "metadata": {},
   "outputs": [],
   "source": [
    "df = final_df_filtered_out[[\"nct_id\",\"start_date\",\"start_date_type\",\"completion_date_type\", \"completion_date\" ,'primary_completion_date', \"primary_completion_date_type\",\"target_duration\", \"phase\",\"overall_status\", \"study_type\",\"source\" ,\"source_class\",\"brief_title\", \n",
    "\"official_title\",\"enrollment\",\"acronym\" ,\"why_stopped\", \"number_of_groups\", \"number_of_arms\" ,\"enrollment_type\",'intervention_type','name', 'description','intervention_model_description','primary_purpose']]"
   ]
  },
  {
   "cell_type": "code",
   "execution_count": 63,
   "metadata": {},
   "outputs": [],
   "source": [
    "\n",
    "# Aggregating the browse_conditions data\n",
    "aggregated_conditions = browse_conditions.groupby('nct_id').agg({\n",
    "    'downcase_mesh_term': lambda x: ' '.join(x.unique()),\n",
    "    'mesh_type': lambda x: ' '.join(x.unique())\n",
    "}).reset_index()\n",
    "\n",
    "# Renaming the columns as per the provided mapping\n",
    "aggregated_conditions.columns = ['nct_id', 'mesh_conditions', 'mesh_term_type_browse_conditions']\n",
    "\n",
    "# Merging with final_filtered on nct_id using left join to keep all rows in final_filtered\n",
    "df1 = df.merge(aggregated_conditions, on='nct_id', how='left')"
   ]
  },
  {
   "cell_type": "code",
   "execution_count": 66,
   "metadata": {},
   "outputs": [],
   "source": [
    "# Aggregating the browse_conditions data\n",
    "aggregated_interventions = browse_interventions.groupby('nct_id').agg({\n",
    "    'downcase_mesh_term': lambda x: ' '.join(x.unique()),\n",
    "    'mesh_type': lambda x: ' '.join(x.unique())\n",
    "}).reset_index()\n",
    "\n",
    "# Renaming the columns as per the provided mapping\n",
    "aggregated_interventions.columns = ['nct_id', 'mesh_interventions', 'mesh_term_type_browse_interventions']\n",
    "\n",
    "# Merging with final_filtered on nct_id\n",
    "df2 = df1.merge(aggregated_interventions, on='nct_id', how='left')\n"
   ]
  },
  {
   "cell_type": "code",
   "execution_count": 67,
   "metadata": {},
   "outputs": [],
   "source": [
    "# Aggregating the keywords data\n",
    "aggregated_keywords = keywords.groupby('nct_id').agg({\n",
    "    'downcase_name': lambda x: ' '.join(x.unique())\n",
    "}).reset_index()\n",
    "\n",
    "# Renaming the columns as per the provided mapping\n",
    "aggregated_keywords.columns = ['nct_id', 'keywords']\n",
    "\n",
    "\n",
    "# Merging with final_filtered on nct_id using left join to keep all rows in final_filtered\n",
    "df3 = df2.merge(aggregated_keywords, on='nct_id', how='left')\n"
   ]
  },
  {
   "cell_type": "code",
   "execution_count": 68,
   "metadata": {},
   "outputs": [],
   "source": [
    "# Aggregating the conditions data\n",
    "aggregated_conditions = conditions.groupby('nct_id').agg({\n",
    "    'downcase_name': lambda x: ' '.join(x.unique())\n",
    "}).reset_index()\n",
    "\n",
    "# Renaming the columns as per the provided mapping\n",
    "aggregated_conditions.columns = ['nct_id', 'conditions']\n",
    "\n",
    "\n",
    "# Merging with final_filtered on nct_id using left join to keep all rows in final_filtered\n",
    "df4 = df3.merge(aggregated_conditions, on='nct_id', how='left')\n"
   ]
  },
  {
   "cell_type": "code",
   "execution_count": 69,
   "metadata": {},
   "outputs": [],
   "source": [
    "# Selecting and renaming columns as per the provided mapping\n",
    "designs_selected = designs[['nct_id', 'intervention_model', 'observational_model', 'allocation', \n",
    "                            'time_perspective', 'masking', 'masking_description', \n",
    "                            'subject_masked', 'caregiver_masked', 'investigator_masked', \n",
    "                            'outcomes_assessor_masked', 'intervention_model_description']]\n",
    "designs_selected.columns = [\n",
    "    'nct_id', 'interventional_mode', 'observational_mode', 'design_allocation', \n",
    "    'design_time_perspective', 'design_masking', 'design_masking_description', \n",
    "    'design_subject_masked', 'design_caregiver_masked', 'design_investigator_masked', \n",
    "    'design_outcome_assessor_masked', 'interventional_mode_description'\n",
    "]\n",
    "\n",
    "# Merging with final_filtered on nct_id using left join to keep all rows in final_filtered\n",
    "df5 = df4.merge(designs_selected, on='nct_id', how='left')\n"
   ]
  },
  {
   "cell_type": "code",
   "execution_count": 70,
   "metadata": {},
   "outputs": [],
   "source": [
    "design_groups['group_type'] = design_groups['group_type'].fillna('')\n",
    "\n",
    "# Aggregating the design_groups data\n",
    "aggregated_design_groups = design_groups.groupby('nct_id').agg({\n",
    "    'group_type': lambda x: ' '.join(x.unique())\n",
    "}).reset_index()\n",
    "\n",
    "# Renaming the columns as per the provided mapping\n",
    "aggregated_design_groups.columns = ['nct_id', 'design_groups_type']\n",
    "\n",
    "# Merging with final_filtered on nct_id using left join to keep all rows in final_filtered\n",
    "df5 = df5.merge(aggregated_design_groups, on='nct_id', how='left')\n",
    "\n"
   ]
  },
  {
   "cell_type": "code",
   "execution_count": 71,
   "metadata": {},
   "outputs": [],
   "source": [
    "\n",
    "# Handling NaN values by replacing them with an empty string\n",
    "countries['name'] = countries['name'].fillna('')\n",
    "\n",
    "# Aggregating the countries data\n",
    "aggregated_countries = countries.groupby('nct_id').agg({\n",
    "    'name': lambda x: ' '.join(x.unique())\n",
    "}).reset_index()\n",
    "\n",
    "# Renaming the columns as per the provided mapping\n",
    "aggregated_countries.columns = ['nct_id', 'countries']\n",
    "\n",
    "# Merging with final_filtered on nct_id using left join to keep all rows in final_filtered\n",
    "df6 = df5.merge(aggregated_countries, on='nct_id', how='left')\n"
   ]
  },
  {
   "cell_type": "code",
   "execution_count": 72,
   "metadata": {},
   "outputs": [
    {
     "data": {
      "text/plain": [
       "Index(['nct_id', 'start_date', 'start_date_type', 'completion_date_type',\n",
       "       'completion_date', 'primary_completion_date',\n",
       "       'primary_completion_date_type', 'target_duration', 'phase',\n",
       "       'overall_status', 'study_type', 'source', 'source_class', 'brief_title',\n",
       "       'official_title', 'enrollment', 'acronym', 'why_stopped',\n",
       "       'number_of_groups', 'number_of_arms', 'enrollment_type',\n",
       "       'intervention_type', 'name', 'description',\n",
       "       'intervention_model_description', 'primary_purpose', 'mesh_conditions',\n",
       "       'mesh_term_type_browse_conditions', 'mesh_interventions',\n",
       "       'mesh_term_type_browse_interventions', 'keywords', 'conditions',\n",
       "       'interventional_mode', 'observational_mode', 'design_allocation',\n",
       "       'design_time_perspective', 'design_masking',\n",
       "       'design_masking_description', 'design_subject_masked',\n",
       "       'design_caregiver_masked', 'design_investigator_masked',\n",
       "       'design_outcome_assessor_masked', 'interventional_mode_description',\n",
       "       'design_groups_type', 'countries'],\n",
       "      dtype='object')"
      ]
     },
     "execution_count": 72,
     "metadata": {},
     "output_type": "execute_result"
    }
   ],
   "source": [
    "#df6 is master dataframe of all vaccine related clinical trials data\n",
    "\n",
    "df6.columns"
   ]
  }
 ],
 "metadata": {
  "kernelspec": {
   "display_name": "Python 3",
   "language": "python",
   "name": "python3"
  },
  "language_info": {
   "codemirror_mode": {
    "name": "ipython",
    "version": 3
   },
   "file_extension": ".py",
   "mimetype": "text/x-python",
   "name": "python",
   "nbconvert_exporter": "python",
   "pygments_lexer": "ipython3",
   "version": "3.7.5"
  }
 },
 "nbformat": 4,
 "nbformat_minor": 2
}
